{
 "cells": [
  {
   "cell_type": "code",
   "execution_count": 1,
   "id": "5b0c926f",
   "metadata": {},
   "outputs": [],
   "source": [
    "# Imports\n",
    "import tensorflow as tf\n",
    "import numpy as np\n",
    "from tensorflow import keras\n",
    "from tensorflow.keras import layers\n",
    "import pandas as pd\n",
    "import matplotlib.pyplot as plt\n",
    "import inspect\n",
    "from tqdm import tqdm\n",
    "\n",
    "# Set batch size for training and validation\n",
    "batch_size = 32"
   ]
  },
  {
   "cell_type": "code",
   "execution_count": 2,
   "id": "7f10ae7b",
   "metadata": {},
   "outputs": [
    {
     "name": "stdout",
     "output_type": "stream",
     "text": [
      "{'DenseNet121': <function DenseNet121 at 0x7feed26fa9e0>, 'DenseNet169': <function DenseNet169 at 0x7feed26faa70>, 'DenseNet201': <function DenseNet201 at 0x7feed26fab00>, 'EfficientNetB0': <function EfficientNetB0 at 0x7feed2700710>, 'EfficientNetB1': <function EfficientNetB1 at 0x7feed27007a0>, 'EfficientNetB2': <function EfficientNetB2 at 0x7feed2700830>, 'EfficientNetB3': <function EfficientNetB3 at 0x7feed27008c0>, 'EfficientNetB4': <function EfficientNetB4 at 0x7feed2700950>, 'EfficientNetB5': <function EfficientNetB5 at 0x7feed27009e0>, 'EfficientNetB6': <function EfficientNetB6 at 0x7feed2700a70>, 'EfficientNetB7': <function EfficientNetB7 at 0x7feed2700b00>, 'InceptionResNetV2': <function InceptionResNetV2 at 0x7feed27005f0>, 'InceptionV3': <function InceptionV3 at 0x7feed270b200>, 'MobileNet': <function MobileNet at 0x7feed270b7a0>, 'MobileNetV2': <function MobileNetV2 at 0x7feed270bdd0>, 'MobileNetV3Large': <function MobileNetV3Large at 0x7feed271a170>, 'MobileNetV3Small': <function MobileNetV3Small at 0x7feed271a0e0>, 'NASNetLarge': <function NASNetLarge at 0x7feed271af80>, 'NASNetMobile': <function NASNetMobile at 0x7feed271aef0>, 'ResNet101': <function ResNet101 at 0x7feed2729320>, 'ResNet101V2': <function ResNet101V2 at 0x7feed2729a70>, 'ResNet152': <function ResNet152 at 0x7feed27293b0>, 'ResNet152V2': <function ResNet152V2 at 0x7feed2729b00>, 'ResNet50': <function ResNet50 at 0x7feed2729290>, 'ResNet50V2': <function ResNet50V2 at 0x7feed2721e60>, 'VGG16': <function VGG16 at 0x7feed27299e0>, 'VGG19': <function VGG19 at 0x7feed2729ef0>, 'Xception': <function Xception at 0x7feed2730320>}\n"
     ]
    }
   ],
   "source": [
    "# List all available models\n",
    "model_dictionary = {m[0]:m[1] for m in inspect.getmembers(tf.keras.applications, inspect.isfunction)}\n",
    "print(model_dictionary)"
   ]
  },
  {
   "cell_type": "code",
   "execution_count": 3,
   "id": "696da853",
   "metadata": {},
   "outputs": [
    {
     "name": "stdout",
     "output_type": "stream",
     "text": [
      "Found 20000 files belonging to 2 classes.\n",
      "Found 7862 files belonging to 2 classes.\n"
     ]
    }
   ],
   "source": [
    "# Download the training and validation data\n",
    "# Set up training and validation dataset\n",
    "train_ds_224 = tf.keras.preprocessing.image_dataset_from_directory(\n",
    "    \"/Users/brian/ml/DetectSelfie/data/Selfie-Image-Detection-Dataset/Training_data_reduced\",\n",
    "    labels=\"inferred\",\n",
    "    label_mode=\"int\",\n",
    "    color_mode=\"rgb\",\n",
    "    seed=1337,\n",
    "    image_size=(224, 224),\n",
    "    batch_size=batch_size,\n",
    ")\n",
    "val_ds_224 = tf.keras.preprocessing.image_dataset_from_directory(\n",
    "    \"/Users/brian/ml/DetectSelfie/data/Selfie-Image-Detection-Dataset-Grayscale/Validation_data\",\n",
    "    labels=\"inferred\",\n",
    "    label_mode=\"int\",\n",
    "    color_mode=\"rgb\",\n",
    "    seed=1337,\n",
    "    image_size=(224, 224),\n",
    "    batch_size=batch_size,\n",
    ")"
   ]
  },
  {
   "cell_type": "code",
   "execution_count": 4,
   "id": "c96c5f17",
   "metadata": {},
   "outputs": [
    {
     "name": "stdout",
     "output_type": "stream",
     "text": [
      "Found 20000 files belonging to 2 classes.\n",
      "Found 7862 files belonging to 2 classes.\n"
     ]
    }
   ],
   "source": [
    "# Set up training and validation dataset\n",
    "train_ds_331 = tf.keras.preprocessing.image_dataset_from_directory(\n",
    "    \"/Users/brian/ml/DetectSelfie/data/Selfie-Image-Detection-Dataset/Training_data_reduced\",\n",
    "    labels=\"inferred\",\n",
    "    label_mode=\"int\",\n",
    "    color_mode=\"rgb\",\n",
    "    seed=1337,\n",
    "    image_size=(331, 331),\n",
    "    batch_size=batch_size,\n",
    ")\n",
    "val_ds_331 = tf.keras.preprocessing.image_dataset_from_directory(\n",
    "    \"/Users/brian/ml/DetectSelfie/data/Selfie-Image-Detection-Dataset-Grayscale/Validation_data\",\n",
    "    labels=\"inferred\",\n",
    "    label_mode=\"int\",\n",
    "    color_mode=\"rgb\",\n",
    "    seed=1337,\n",
    "    image_size=(331, 331),\n",
    "    batch_size=batch_size,\n",
    ")"
   ]
  },
  {
   "cell_type": "code",
   "execution_count": 5,
   "id": "f70248b0",
   "metadata": {},
   "outputs": [
    {
     "name": "stdout",
     "output_type": "stream",
     "text": [
      "Num train images: 20000         \n",
      "Num validation images: 7872         \n",
      "Num classes: 2         \n",
      "Num iterations per epoch: 625\n"
     ]
    }
   ],
   "source": [
    "# Number of training examples and labels\n",
    "num_train = int(train_ds_224.__len__()) * 32\n",
    "num_validation = int(val_ds_224.__len__()) * 32\n",
    "num_classes = len(train_ds_224.class_names)\n",
    "num_iterations = train_ds_224.__len__()\n",
    "\n",
    "# Print important info\n",
    "print(f'Num train images: {num_train} \\\n",
    "        \\nNum validation images: {num_validation} \\\n",
    "        \\nNum classes: {num_classes} \\\n",
    "        \\nNum iterations per epoch: {num_iterations}')"
   ]
  },
  {
   "cell_type": "code",
   "execution_count": 6,
   "id": "a6a7567a",
   "metadata": {},
   "outputs": [],
   "source": [
    "# Set up data augmentation preprocessing layers\n",
    "data_augmentation = keras.Sequential(\n",
    "    [\n",
    "        layers.experimental.preprocessing.RandomFlip(\"horizontal\"),\n",
    "        layers.experimental.preprocessing.RandomRotation(0.1),\n",
    "        layers.experimental.preprocessing.RandomZoom(0.3, 0.3),\n",
    "        layers.experimental.preprocessing.RandomTranslation(0.2, 0.2),\n",
    "    ]\n",
    ")"
   ]
  },
  {
   "cell_type": "code",
   "execution_count": 7,
   "id": "19060afb",
   "metadata": {},
   "outputs": [
    {
     "name": "stderr",
     "output_type": "stream",
     "text": [
      "\r",
      "  0%|          | 0/28 [00:00<?, ?it/s]"
     ]
    },
    {
     "name": "stdout",
     "output_type": "stream",
     "text": [
      "Model: \"model\"\n",
      "_________________________________________________________________\n",
      "Layer (type)                 Output Shape              Param #   \n",
      "=================================================================\n",
      "input_1 (InputLayer)         [(None, 224, 224, 3)]     0         \n",
      "_________________________________________________________________\n",
      "sequential (Sequential)      (None, 224, 224, 3)       0         \n",
      "_________________________________________________________________\n",
      "normalization (Normalization (None, 224, 224, 3)       7         \n",
      "_________________________________________________________________\n",
      "densenet121 (Functional)     (None, 7, 7, 1024)        7037504   \n",
      "_________________________________________________________________\n",
      "global_average_pooling2d (Gl (None, 1024)              0         \n",
      "_________________________________________________________________\n",
      "dropout (Dropout)            (None, 1024)              0         \n",
      "_________________________________________________________________\n",
      "dense (Dense)                (None, 1)                 1025      \n",
      "=================================================================\n",
      "Total params: 7,038,536\n",
      "Trainable params: 1,025\n",
      "Non-trainable params: 7,037,511\n",
      "_________________________________________________________________\n",
      "Epoch 1/3\n",
      "625/625 [==============================] - 2877s 5s/step - loss: 0.2927 - binary_accuracy: 0.8730 - val_loss: 0.1276 - val_binary_accuracy: 0.9517\n",
      "Epoch 2/3\n",
      "625/625 [==============================] - 2968s 5s/step - loss: 0.1244 - binary_accuracy: 0.9535 - val_loss: 0.1536 - val_binary_accuracy: 0.9433\n",
      "Epoch 3/3\n",
      "625/625 [==============================] - 2387s 4s/step - loss: 0.1037 - binary_accuracy: 0.9615 - val_loss: 0.1188 - val_binary_accuracy: 0.9573\n"
     ]
    },
    {
     "name": "stderr",
     "output_type": "stream",
     "text": [
      "\r",
      "  4%|▎         | 1/28 [2:17:15<61:46:06, 8235.79s/it]"
     ]
    },
    {
     "name": "stdout",
     "output_type": "stream",
     "text": [
      "Downloading data from https://storage.googleapis.com/tensorflow/keras-applications/densenet/densenet169_weights_tf_dim_ordering_tf_kernels_notop.h5\n",
      "51879936/51877672 [==============================] - 2s 0us/step\n",
      "Model: \"model_1\"\n",
      "_________________________________________________________________\n",
      "Layer (type)                 Output Shape              Param #   \n",
      "=================================================================\n",
      "input_3 (InputLayer)         [(None, 224, 224, 3)]     0         \n",
      "_________________________________________________________________\n",
      "sequential (Sequential)      (None, 224, 224, 3)       0         \n",
      "_________________________________________________________________\n",
      "normalization_1 (Normalizati (None, 224, 224, 3)       7         \n",
      "_________________________________________________________________\n",
      "densenet169 (Functional)     (None, 7, 7, 1664)        12642880  \n",
      "_________________________________________________________________\n",
      "global_average_pooling2d_1 ( (None, 1664)              0         \n",
      "_________________________________________________________________\n",
      "dropout_1 (Dropout)          (None, 1664)              0         \n",
      "_________________________________________________________________\n",
      "dense_1 (Dense)              (None, 1)                 1665      \n",
      "=================================================================\n",
      "Total params: 12,644,552\n",
      "Trainable params: 1,665\n",
      "Non-trainable params: 12,642,887\n",
      "_________________________________________________________________\n",
      "Epoch 1/3\n",
      "625/625 [==============================] - 2855s 5s/step - loss: 0.2882 - binary_accuracy: 0.8694 - val_loss: 0.1432 - val_binary_accuracy: 0.9443\n",
      "Epoch 2/3\n",
      "625/625 [==============================] - 2839s 5s/step - loss: 0.1155 - binary_accuracy: 0.9570 - val_loss: 0.1248 - val_binary_accuracy: 0.9524\n",
      "Epoch 3/3\n",
      "625/625 [==============================] - 2812s 4s/step - loss: 0.1035 - binary_accuracy: 0.9603 - val_loss: 0.1287 - val_binary_accuracy: 0.9509\n"
     ]
    },
    {
     "name": "stderr",
     "output_type": "stream",
     "text": [
      "\r",
      "  7%|▋         | 2/28 [4:39:10<60:40:02, 8400.09s/it]"
     ]
    },
    {
     "name": "stdout",
     "output_type": "stream",
     "text": [
      "Downloading data from https://storage.googleapis.com/tensorflow/keras-applications/densenet/densenet201_weights_tf_dim_ordering_tf_kernels_notop.h5\n",
      "74842112/74836368 [==============================] - 3s 0us/step\n",
      "Model: \"model_2\"\n",
      "_________________________________________________________________\n",
      "Layer (type)                 Output Shape              Param #   \n",
      "=================================================================\n",
      "input_5 (InputLayer)         [(None, 224, 224, 3)]     0         \n",
      "_________________________________________________________________\n",
      "sequential (Sequential)      (None, 224, 224, 3)       0         \n",
      "_________________________________________________________________\n",
      "normalization_2 (Normalizati (None, 224, 224, 3)       7         \n",
      "_________________________________________________________________\n",
      "densenet201 (Functional)     (None, 7, 7, 1920)        18321984  \n",
      "_________________________________________________________________\n",
      "global_average_pooling2d_2 ( (None, 1920)              0         \n",
      "_________________________________________________________________\n",
      "dropout_2 (Dropout)          (None, 1920)              0         \n",
      "_________________________________________________________________\n",
      "dense_2 (Dense)              (None, 1)                 1921      \n",
      "=================================================================\n",
      "Total params: 18,323,912\n",
      "Trainable params: 1,921\n",
      "Non-trainable params: 18,321,991\n",
      "_________________________________________________________________\n",
      "Epoch 1/3\n",
      "625/625 [==============================] - 3699s 6s/step - loss: 0.2331 - binary_accuracy: 0.9095 - val_loss: 0.1218 - val_binary_accuracy: 0.9547\n",
      "Epoch 2/3\n",
      "625/625 [==============================] - 3651s 6s/step - loss: 0.1002 - binary_accuracy: 0.9641 - val_loss: 0.1490 - val_binary_accuracy: 0.9434\n",
      "Epoch 3/3\n",
      "625/625 [==============================] - 3634s 6s/step - loss: 0.0866 - binary_accuracy: 0.9697 - val_loss: 0.1673 - val_binary_accuracy: 0.9361\n"
     ]
    },
    {
     "name": "stderr",
     "output_type": "stream",
     "text": [
      "\r",
      " 11%|█         | 3/28 [7:42:26<66:33:47, 9585.10s/it]"
     ]
    },
    {
     "name": "stdout",
     "output_type": "stream",
     "text": [
      "Downloading data from https://storage.googleapis.com/keras-applications/efficientnetb0_notop.h5\n",
      "16711680/16705208 [==============================] - 1s 0us/step\n",
      "Model: \"model_3\"\n",
      "_________________________________________________________________\n",
      "Layer (type)                 Output Shape              Param #   \n",
      "=================================================================\n",
      "input_7 (InputLayer)         [(None, 224, 224, 3)]     0         \n",
      "_________________________________________________________________\n",
      "sequential (Sequential)      (None, 224, 224, 3)       0         \n",
      "_________________________________________________________________\n",
      "normalization_4 (Normalizati (None, 224, 224, 3)       7         \n",
      "_________________________________________________________________\n",
      "efficientnetb0 (Functional)  (None, 7, 7, 1280)        4049571   \n",
      "_________________________________________________________________\n",
      "global_average_pooling2d_3 ( (None, 1280)              0         \n",
      "_________________________________________________________________\n",
      "dropout_3 (Dropout)          (None, 1280)              0         \n",
      "_________________________________________________________________\n",
      "dense_3 (Dense)              (None, 1)                 1281      \n",
      "=================================================================\n",
      "Total params: 4,050,859\n",
      "Trainable params: 1,281\n",
      "Non-trainable params: 4,049,578\n",
      "_________________________________________________________________\n",
      "Epoch 1/3\n",
      "625/625 [==============================] - 1323s 2s/step - loss: 0.6933 - binary_accuracy: 0.5069 - val_loss: 0.6807 - val_binary_accuracy: 0.5000\n",
      "Epoch 2/3\n",
      "625/625 [==============================] - 1313s 2s/step - loss: 0.6861 - binary_accuracy: 0.5469 - val_loss: 0.6633 - val_binary_accuracy: 0.5731\n",
      "Epoch 3/3\n",
      "625/625 [==============================] - 1314s 2s/step - loss: 0.6841 - binary_accuracy: 0.5634 - val_loss: 0.6550 - val_binary_accuracy: 0.6291\n"
     ]
    },
    {
     "name": "stderr",
     "output_type": "stream",
     "text": [
      "\r",
      " 14%|█▍        | 4/28 [8:48:22<49:05:06, 7362.79s/it]"
     ]
    },
    {
     "name": "stdout",
     "output_type": "stream",
     "text": [
      "Downloading data from https://storage.googleapis.com/keras-applications/efficientnetb1_notop.h5\n",
      "27025408/27018416 [==============================] - 1s 0us/step\n",
      "Model: \"model_4\"\n",
      "_________________________________________________________________\n",
      "Layer (type)                 Output Shape              Param #   \n",
      "=================================================================\n",
      "input_9 (InputLayer)         [(None, 224, 224, 3)]     0         \n",
      "_________________________________________________________________\n",
      "sequential (Sequential)      (None, 224, 224, 3)       0         \n",
      "_________________________________________________________________\n",
      "normalization_6 (Normalizati (None, 224, 224, 3)       7         \n",
      "_________________________________________________________________\n",
      "efficientnetb1 (Functional)  (None, 7, 7, 1280)        6575239   \n",
      "_________________________________________________________________\n",
      "global_average_pooling2d_4 ( (None, 1280)              0         \n",
      "_________________________________________________________________\n",
      "dropout_4 (Dropout)          (None, 1280)              0         \n",
      "_________________________________________________________________\n",
      "dense_4 (Dense)              (None, 1)                 1281      \n",
      "=================================================================\n",
      "Total params: 6,576,527\n",
      "Trainable params: 1,281\n",
      "Non-trainable params: 6,575,246\n",
      "_________________________________________________________________\n",
      "Epoch 1/3\n",
      "625/625 [==============================] - 1744s 3s/step - loss: 0.6912 - binary_accuracy: 0.5199 - val_loss: 0.6618 - val_binary_accuracy: 0.6739\n",
      "Epoch 2/3\n",
      "625/625 [==============================] - 1725s 3s/step - loss: 0.6748 - binary_accuracy: 0.6009 - val_loss: 0.6587 - val_binary_accuracy: 0.5600\n",
      "Epoch 3/3\n",
      "625/625 [==============================] - 1724s 3s/step - loss: 0.6690 - binary_accuracy: 0.6066 - val_loss: 0.6458 - val_binary_accuracy: 0.6440\n"
     ]
    },
    {
     "name": "stderr",
     "output_type": "stream",
     "text": [
      "\r",
      " 18%|█▊        | 5/28 [10:15:01<42:03:17, 6582.48s/it]"
     ]
    },
    {
     "name": "stdout",
     "output_type": "stream",
     "text": [
      "Downloading data from https://storage.googleapis.com/keras-applications/efficientnetb2_notop.h5\n",
      "31793152/31790344 [==============================] - 2s 0us/step\n",
      "Model: \"model_5\"\n",
      "_________________________________________________________________\n",
      "Layer (type)                 Output Shape              Param #   \n",
      "=================================================================\n",
      "input_11 (InputLayer)        [(None, 224, 224, 3)]     0         \n",
      "_________________________________________________________________\n",
      "sequential (Sequential)      (None, 224, 224, 3)       0         \n",
      "_________________________________________________________________\n",
      "normalization_8 (Normalizati (None, 224, 224, 3)       7         \n",
      "_________________________________________________________________\n",
      "efficientnetb2 (Functional)  (None, 7, 7, 1408)        7768569   \n",
      "_________________________________________________________________\n",
      "global_average_pooling2d_5 ( (None, 1408)              0         \n",
      "_________________________________________________________________\n",
      "dropout_5 (Dropout)          (None, 1408)              0         \n",
      "_________________________________________________________________\n",
      "dense_5 (Dense)              (None, 1)                 1409      \n",
      "=================================================================\n",
      "Total params: 7,769,985\n",
      "Trainable params: 1,409\n",
      "Non-trainable params: 7,768,576\n",
      "_________________________________________________________________\n",
      "Epoch 1/3\n",
      "625/625 [==============================] - 1834s 3s/step - loss: 0.6956 - binary_accuracy: 0.5094 - val_loss: 0.6852 - val_binary_accuracy: 0.5000\n",
      "Epoch 2/3\n",
      "625/625 [==============================] - 1837s 3s/step - loss: 0.6909 - binary_accuracy: 0.5247 - val_loss: 0.6745 - val_binary_accuracy: 0.6114\n",
      "Epoch 3/3\n",
      "625/625 [==============================] - 1823s 3s/step - loss: 0.6882 - binary_accuracy: 0.5438 - val_loss: 0.6864 - val_binary_accuracy: 0.5025\n"
     ]
    },
    {
     "name": "stderr",
     "output_type": "stream",
     "text": [
      "\r",
      " 21%|██▏       | 6/28 [11:46:43<37:58:52, 6215.12s/it]"
     ]
    },
    {
     "name": "stdout",
     "output_type": "stream",
     "text": [
      "Downloading data from https://storage.googleapis.com/keras-applications/efficientnetb3_notop.h5\n",
      "43941888/43941136 [==============================] - 2s 0us/step\n",
      "Model: \"model_6\"\n",
      "_________________________________________________________________\n",
      "Layer (type)                 Output Shape              Param #   \n",
      "=================================================================\n",
      "input_13 (InputLayer)        [(None, 224, 224, 3)]     0         \n",
      "_________________________________________________________________\n",
      "sequential (Sequential)      (None, 224, 224, 3)       0         \n",
      "_________________________________________________________________\n",
      "normalization_10 (Normalizat (None, 224, 224, 3)       7         \n",
      "_________________________________________________________________\n",
      "efficientnetb3 (Functional)  (None, 7, 7, 1536)        10783535  \n",
      "_________________________________________________________________\n",
      "global_average_pooling2d_6 ( (None, 1536)              0         \n",
      "_________________________________________________________________\n",
      "dropout_6 (Dropout)          (None, 1536)              0         \n",
      "_________________________________________________________________\n",
      "dense_6 (Dense)              (None, 1)                 1537      \n",
      "=================================================================\n",
      "Total params: 10,785,079\n",
      "Trainable params: 1,537\n",
      "Non-trainable params: 10,783,542\n",
      "_________________________________________________________________\n",
      "Epoch 1/3\n",
      "625/625 [==============================] - 2253s 4s/step - loss: 0.6704 - binary_accuracy: 0.5852 - val_loss: 0.6025 - val_binary_accuracy: 0.6993\n",
      "Epoch 2/3\n",
      "625/625 [==============================] - 2239s 4s/step - loss: 0.6201 - binary_accuracy: 0.6601 - val_loss: 0.5871 - val_binary_accuracy: 0.7091\n",
      "Epoch 3/3\n",
      "625/625 [==============================] - 2225s 4s/step - loss: 0.6138 - binary_accuracy: 0.6676 - val_loss: 0.5881 - val_binary_accuracy: 0.7035\n"
     ]
    },
    {
     "name": "stderr",
     "output_type": "stream",
     "text": [
      "\r",
      " 25%|██▌       | 7/28 [13:38:48<37:13:39, 6381.87s/it]"
     ]
    },
    {
     "name": "stdout",
     "output_type": "stream",
     "text": [
      "Downloading data from https://storage.googleapis.com/keras-applications/efficientnetb4_notop.h5\n",
      "71688192/71686520 [==============================] - 3s 0us/step\n",
      "Model: \"model_7\"\n",
      "_________________________________________________________________\n",
      "Layer (type)                 Output Shape              Param #   \n",
      "=================================================================\n",
      "input_15 (InputLayer)        [(None, 224, 224, 3)]     0         \n",
      "_________________________________________________________________\n",
      "sequential (Sequential)      (None, 224, 224, 3)       0         \n",
      "_________________________________________________________________\n",
      "normalization_12 (Normalizat (None, 224, 224, 3)       7         \n",
      "_________________________________________________________________\n",
      "efficientnetb4 (Functional)  (None, 7, 7, 1792)        17673823  \n",
      "_________________________________________________________________\n",
      "global_average_pooling2d_7 ( (None, 1792)              0         \n",
      "_________________________________________________________________\n",
      "dropout_7 (Dropout)          (None, 1792)              0         \n",
      "_________________________________________________________________\n",
      "dense_7 (Dense)              (None, 1)                 1793      \n",
      "=================================================================\n",
      "Total params: 17,675,623\n",
      "Trainable params: 1,793\n",
      "Non-trainable params: 17,673,830\n",
      "_________________________________________________________________\n",
      "Epoch 1/3\n",
      "625/625 [==============================] - 2939s 5s/step - loss: 0.6991 - binary_accuracy: 0.5074 - val_loss: 0.6864 - val_binary_accuracy: 0.5000\n",
      "Epoch 2/3\n",
      "625/625 [==============================] - 2924s 5s/step - loss: 0.6892 - binary_accuracy: 0.5396 - val_loss: 0.6804 - val_binary_accuracy: 0.5001\n",
      "Epoch 3/3\n",
      "625/625 [==============================] - 2924s 5s/step - loss: 0.6834 - binary_accuracy: 0.5532 - val_loss: 0.6643 - val_binary_accuracy: 0.6618\n"
     ]
    },
    {
     "name": "stderr",
     "output_type": "stream",
     "text": [
      "\r",
      " 29%|██▊       | 8/28 [16:05:25<39:43:35, 7150.80s/it]"
     ]
    },
    {
     "name": "stdout",
     "output_type": "stream",
     "text": [
      "Downloading data from https://storage.googleapis.com/keras-applications/efficientnetb5_notop.h5\n",
      "115269632/115263384 [==============================] - 5s 0us/step\n",
      "Model: \"model_8\"\n",
      "_________________________________________________________________\n",
      "Layer (type)                 Output Shape              Param #   \n",
      "=================================================================\n",
      "input_17 (InputLayer)        [(None, 224, 224, 3)]     0         \n",
      "_________________________________________________________________\n",
      "sequential (Sequential)      (None, 224, 224, 3)       0         \n",
      "_________________________________________________________________\n",
      "normalization_14 (Normalizat (None, 224, 224, 3)       7         \n",
      "_________________________________________________________________\n",
      "efficientnetb5 (Functional)  (None, 7, 7, 2048)        28513527  \n",
      "_________________________________________________________________\n",
      "global_average_pooling2d_8 ( (None, 2048)              0         \n",
      "_________________________________________________________________\n",
      "dropout_8 (Dropout)          (None, 2048)              0         \n",
      "_________________________________________________________________\n",
      "dense_8 (Dense)              (None, 1)                 2049      \n",
      "=================================================================\n",
      "Total params: 28,515,583\n",
      "Trainable params: 2,049\n",
      "Non-trainable params: 28,513,534\n",
      "_________________________________________________________________\n",
      "Epoch 1/3\n",
      "625/625 [==============================] - 4041s 6s/step - loss: 0.6799 - binary_accuracy: 0.5583 - val_loss: 0.6329 - val_binary_accuracy: 0.6479\n",
      "Epoch 2/3\n",
      "625/625 [==============================] - 4706s 8s/step - loss: 0.6508 - binary_accuracy: 0.6169 - val_loss: 0.6177 - val_binary_accuracy: 0.6633\n",
      "Epoch 3/3\n",
      "625/625 [==============================] - 5292s 8s/step - loss: 0.6376 - binary_accuracy: 0.6336 - val_loss: 0.6110 - val_binary_accuracy: 0.6687\n"
     ]
    },
    {
     "name": "stderr",
     "output_type": "stream",
     "text": [
      "\r",
      " 32%|███▏      | 9/28 [19:59:38<49:07:44, 9308.64s/it]"
     ]
    },
    {
     "name": "stdout",
     "output_type": "stream",
     "text": [
      "Downloading data from https://storage.googleapis.com/keras-applications/efficientnetb6_notop.h5\n",
      "165240832/165234480 [==============================] - 7s 0us/step\n",
      "Model: \"model_9\"\n",
      "_________________________________________________________________\n",
      "Layer (type)                 Output Shape              Param #   \n",
      "=================================================================\n",
      "input_19 (InputLayer)        [(None, 224, 224, 3)]     0         \n",
      "_________________________________________________________________\n",
      "sequential (Sequential)      (None, 224, 224, 3)       0         \n",
      "_________________________________________________________________\n",
      "normalization_16 (Normalizat (None, 224, 224, 3)       7         \n",
      "_________________________________________________________________\n",
      "efficientnetb6 (Functional)  (None, 7, 7, 2304)        40960143  \n",
      "_________________________________________________________________\n",
      "global_average_pooling2d_9 ( (None, 2304)              0         \n",
      "_________________________________________________________________\n",
      "dropout_9 (Dropout)          (None, 2304)              0         \n",
      "_________________________________________________________________\n",
      "dense_9 (Dense)              (None, 1)                 2305      \n",
      "=================================================================\n",
      "Total params: 40,962,455\n",
      "Trainable params: 2,305\n",
      "Non-trainable params: 40,960,150\n",
      "_________________________________________________________________\n",
      "Epoch 1/3\n",
      "625/625 [==============================] - 6062s 10s/step - loss: 0.6683 - binary_accuracy: 0.5911 - val_loss: 0.6377 - val_binary_accuracy: 0.6355\n",
      "Epoch 2/3\n",
      "625/625 [==============================] - 6306s 10s/step - loss: 0.6469 - binary_accuracy: 0.6264 - val_loss: 0.6313 - val_binary_accuracy: 0.6411\n",
      "Epoch 3/3\n",
      "625/625 [==============================] - 6891s 11s/step - loss: 0.6423 - binary_accuracy: 0.6310 - val_loss: 0.6454 - val_binary_accuracy: 0.6241\n"
     ]
    },
    {
     "name": "stderr",
     "output_type": "stream",
     "text": [
      "\r",
      " 36%|███▌      | 10/28 [25:20:57<61:55:56, 12386.47s/it]"
     ]
    },
    {
     "name": "stdout",
     "output_type": "stream",
     "text": [
      "Downloading data from https://storage.googleapis.com/keras-applications/efficientnetb7_notop.h5\n",
      "258080768/258076736 [==============================] - 10s 0us/step\n",
      "Model: \"model_10\"\n",
      "_________________________________________________________________\n",
      "Layer (type)                 Output Shape              Param #   \n",
      "=================================================================\n",
      "input_21 (InputLayer)        [(None, 224, 224, 3)]     0         \n",
      "_________________________________________________________________\n",
      "sequential (Sequential)      (None, 224, 224, 3)       0         \n",
      "_________________________________________________________________\n",
      "normalization_18 (Normalizat (None, 224, 224, 3)       7         \n",
      "_________________________________________________________________\n",
      "efficientnetb7 (Functional)  (None, 7, 7, 2560)        64097687  \n",
      "_________________________________________________________________\n",
      "global_average_pooling2d_10  (None, 2560)              0         \n",
      "_________________________________________________________________\n",
      "dropout_10 (Dropout)         (None, 2560)              0         \n",
      "_________________________________________________________________\n",
      "dense_10 (Dense)             (None, 1)                 2561      \n",
      "=================================================================\n",
      "Total params: 64,100,255\n",
      "Trainable params: 2,561\n",
      "Non-trainable params: 64,097,694\n",
      "_________________________________________________________________\n",
      "Epoch 1/3\n",
      "625/625 [==============================] - 7624s 12s/step - loss: 0.6980 - binary_accuracy: 0.5091 - val_loss: 0.6803 - val_binary_accuracy: 0.5125\n",
      "Epoch 2/3\n",
      "625/625 [==============================] - 6957s 11s/step - loss: 0.6919 - binary_accuracy: 0.5314 - val_loss: 0.6741 - val_binary_accuracy: 0.5156\n",
      "Epoch 3/3\n",
      "625/625 [==============================] - 7001s 11s/step - loss: 0.6792 - binary_accuracy: 0.5617 - val_loss: 0.6558 - val_binary_accuracy: 0.5768\n"
     ]
    },
    {
     "name": "stderr",
     "output_type": "stream",
     "text": [
      "\r",
      " 39%|███▉      | 11/28 [31:21:17<71:50:12, 15212.53s/it]"
     ]
    },
    {
     "name": "stdout",
     "output_type": "stream",
     "text": [
      "Downloading data from https://storage.googleapis.com/tensorflow/keras-applications/inception_resnet_v2/inception_resnet_v2_weights_tf_dim_ordering_tf_kernels_notop.h5\n",
      "219062272/219055592 [==============================] - 9s 0us/step\n",
      "Model: \"model_11\"\n",
      "_________________________________________________________________\n",
      "Layer (type)                 Output Shape              Param #   \n",
      "=================================================================\n",
      "input_23 (InputLayer)        [(None, 224, 224, 3)]     0         \n",
      "_________________________________________________________________\n",
      "sequential (Sequential)      (None, 224, 224, 3)       0         \n",
      "_________________________________________________________________\n",
      "normalization_19 (Normalizat (None, 224, 224, 3)       7         \n",
      "_________________________________________________________________\n",
      "inception_resnet_v2 (Functio (None, 5, 5, 1536)        54336736  \n",
      "_________________________________________________________________\n",
      "global_average_pooling2d_11  (None, 1536)              0         \n",
      "_________________________________________________________________\n",
      "dropout_11 (Dropout)         (None, 1536)              0         \n",
      "_________________________________________________________________\n",
      "dense_11 (Dense)             (None, 1)                 1537      \n",
      "=================================================================\n",
      "Total params: 54,338,280\n",
      "Trainable params: 1,537\n",
      "Non-trainable params: 54,336,743\n",
      "_________________________________________________________________\n",
      "Epoch 1/3\n",
      "625/625 [==============================] - 2821s 4s/step - loss: 0.2568 - binary_accuracy: 0.8920 - val_loss: 0.1162 - val_binary_accuracy: 0.9568\n",
      "Epoch 2/3\n",
      "625/625 [==============================] - 2778s 4s/step - loss: 0.1437 - binary_accuracy: 0.9474 - val_loss: 0.1208 - val_binary_accuracy: 0.9562\n",
      "Epoch 3/3\n",
      "625/625 [==============================] - 2764s 4s/step - loss: 0.1329 - binary_accuracy: 0.9499 - val_loss: 0.1279 - val_binary_accuracy: 0.9538\n"
     ]
    },
    {
     "name": "stderr",
     "output_type": "stream",
     "text": [
      "\r",
      " 43%|████▎     | 12/28 [33:41:09<58:23:21, 13137.57s/it]"
     ]
    },
    {
     "name": "stdout",
     "output_type": "stream",
     "text": [
      "Downloading data from https://storage.googleapis.com/tensorflow/keras-applications/inception_v3/inception_v3_weights_tf_dim_ordering_tf_kernels_notop.h5\n",
      "87916544/87910968 [==============================] - 15s 0us/step\n",
      "Model: \"model_12\"\n",
      "_________________________________________________________________\n",
      "Layer (type)                 Output Shape              Param #   \n",
      "=================================================================\n",
      "input_25 (InputLayer)        [(None, 224, 224, 3)]     0         \n",
      "_________________________________________________________________\n",
      "sequential (Sequential)      (None, 224, 224, 3)       0         \n",
      "_________________________________________________________________\n",
      "normalization_20 (Normalizat (None, 224, 224, 3)       7         \n",
      "_________________________________________________________________\n",
      "inception_v3 (Functional)    (None, 5, 5, 2048)        21802784  \n",
      "_________________________________________________________________\n",
      "global_average_pooling2d_12  (None, 2048)              0         \n",
      "_________________________________________________________________\n",
      "dropout_12 (Dropout)         (None, 2048)              0         \n",
      "_________________________________________________________________\n",
      "dense_12 (Dense)             (None, 1)                 2049      \n",
      "=================================================================\n",
      "Total params: 21,804,840\n",
      "Trainable params: 2,049\n",
      "Non-trainable params: 21,802,791\n",
      "_________________________________________________________________\n",
      "Epoch 1/3\n",
      "625/625 [==============================] - 1366s 2s/step - loss: 0.2870 - binary_accuracy: 0.8755 - val_loss: 0.2214 - val_binary_accuracy: 0.9135\n",
      "Epoch 2/3\n",
      "625/625 [==============================] - 1348s 2s/step - loss: 0.1604 - binary_accuracy: 0.9403 - val_loss: 0.2068 - val_binary_accuracy: 0.9215\n",
      "Epoch 3/3\n",
      "625/625 [==============================] - 1350s 2s/step - loss: 0.1425 - binary_accuracy: 0.9456 - val_loss: 0.1686 - val_binary_accuracy: 0.9346\n"
     ]
    },
    {
     "name": "stderr",
     "output_type": "stream",
     "text": [
      "\r",
      " 46%|████▋     | 13/28 [34:49:13<43:18:46, 10395.13s/it]"
     ]
    },
    {
     "name": "stdout",
     "output_type": "stream",
     "text": [
      "Downloading data from https://storage.googleapis.com/tensorflow/keras-applications/mobilenet/mobilenet_1_0_224_tf_no_top.h5\n",
      "17227776/17225924 [==============================] - 5s 0us/step\n",
      "Model: \"model_13\"\n",
      "_________________________________________________________________\n",
      "Layer (type)                 Output Shape              Param #   \n",
      "=================================================================\n",
      "input_27 (InputLayer)        [(None, 224, 224, 3)]     0         \n",
      "_________________________________________________________________\n",
      "sequential (Sequential)      (None, 224, 224, 3)       0         \n",
      "_________________________________________________________________\n",
      "normalization_21 (Normalizat (None, 224, 224, 3)       7         \n",
      "_________________________________________________________________\n",
      "mobilenet_1.00_224 (Function (None, 7, 7, 1024)        3228864   \n",
      "_________________________________________________________________\n",
      "global_average_pooling2d_13  (None, 1024)              0         \n",
      "_________________________________________________________________\n",
      "dropout_13 (Dropout)         (None, 1024)              0         \n",
      "_________________________________________________________________\n",
      "dense_13 (Dense)             (None, 1)                 1025      \n",
      "=================================================================\n",
      "Total params: 3,229,896\n",
      "Trainable params: 1,025\n",
      "Non-trainable params: 3,228,871\n",
      "_________________________________________________________________\n",
      "Epoch 1/3\n",
      "625/625 [==============================] - 986s 2s/step - loss: 0.2731 - binary_accuracy: 0.8752 - val_loss: 0.0971 - val_binary_accuracy: 0.9645\n",
      "Epoch 2/3\n",
      "625/625 [==============================] - 960s 2s/step - loss: 0.1284 - binary_accuracy: 0.9512 - val_loss: 0.0878 - val_binary_accuracy: 0.9691\n",
      "Epoch 3/3\n",
      "625/625 [==============================] - 959s 2s/step - loss: 0.1182 - binary_accuracy: 0.9554 - val_loss: 0.0955 - val_binary_accuracy: 0.9651\n"
     ]
    },
    {
     "name": "stderr",
     "output_type": "stream",
     "text": [
      "\r",
      " 50%|█████     | 14/28 [35:37:47<31:38:16, 8135.44s/it] "
     ]
    },
    {
     "name": "stdout",
     "output_type": "stream",
     "text": [
      "Downloading data from https://storage.googleapis.com/tensorflow/keras-applications/mobilenet_v2/mobilenet_v2_weights_tf_dim_ordering_tf_kernels_1.0_224_no_top.h5\n",
      "9412608/9406464 [==============================] - 1s 0us/step\n",
      "Model: \"model_14\"\n",
      "_________________________________________________________________\n",
      "Layer (type)                 Output Shape              Param #   \n",
      "=================================================================\n",
      "input_29 (InputLayer)        [(None, 224, 224, 3)]     0         \n",
      "_________________________________________________________________\n",
      "sequential (Sequential)      (None, 224, 224, 3)       0         \n",
      "_________________________________________________________________\n",
      "normalization_22 (Normalizat (None, 224, 224, 3)       7         \n",
      "_________________________________________________________________\n",
      "mobilenetv2_1.00_224 (Functi (None, 7, 7, 1280)        2257984   \n",
      "_________________________________________________________________\n",
      "global_average_pooling2d_14  (None, 1280)              0         \n",
      "_________________________________________________________________\n",
      "dropout_14 (Dropout)         (None, 1280)              0         \n",
      "_________________________________________________________________\n",
      "dense_14 (Dense)             (None, 1)                 1281      \n",
      "=================================================================\n",
      "Total params: 2,259,272\n",
      "Trainable params: 1,281\n",
      "Non-trainable params: 2,257,991\n",
      "_________________________________________________________________\n",
      "Epoch 1/3\n",
      "625/625 [==============================] - 1038s 2s/step - loss: 0.2737 - binary_accuracy: 0.8769 - val_loss: 0.1796 - val_binary_accuracy: 0.9298\n",
      "Epoch 2/3\n",
      "625/625 [==============================] - 1012s 2s/step - loss: 0.1351 - binary_accuracy: 0.9505 - val_loss: 0.1520 - val_binary_accuracy: 0.9407\n",
      "Epoch 3/3\n",
      "625/625 [==============================] - 984s 2s/step - loss: 0.1249 - binary_accuracy: 0.9533 - val_loss: 0.1287 - val_binary_accuracy: 0.9501\n"
     ]
    },
    {
     "name": "stderr",
     "output_type": "stream",
     "text": [
      "\r",
      " 54%|█████▎    | 15/28 [36:28:28<23:49:56, 6599.73s/it]"
     ]
    },
    {
     "name": "stdout",
     "output_type": "stream",
     "text": [
      "Downloading data from https://storage.googleapis.com/tensorflow/keras-applications/mobilenet_v3/weights_mobilenet_v3_large_224_1.0_float_no_top.h5\n",
      "17612800/17605208 [==============================] - 1s 0us/step\n",
      "Model: \"model_15\"\n",
      "_________________________________________________________________\n",
      "Layer (type)                 Output Shape              Param #   \n",
      "=================================================================\n",
      "input_31 (InputLayer)        [(None, 224, 224, 3)]     0         \n",
      "_________________________________________________________________\n",
      "sequential (Sequential)      (None, 224, 224, 3)       0         \n",
      "_________________________________________________________________\n",
      "normalization_23 (Normalizat (None, 224, 224, 3)       7         \n",
      "_________________________________________________________________\n",
      "MobilenetV3large (Functional (None, 7, 7, 1280)        4226432   \n",
      "_________________________________________________________________\n",
      "global_average_pooling2d_15  (None, 1280)              0         \n",
      "_________________________________________________________________\n",
      "dropout_15 (Dropout)         (None, 1280)              0         \n",
      "_________________________________________________________________\n",
      "dense_15 (Dense)             (None, 1)                 1281      \n",
      "=================================================================\n",
      "Total params: 4,227,720\n",
      "Trainable params: 1,281\n",
      "Non-trainable params: 4,226,439\n",
      "_________________________________________________________________\n",
      "Epoch 1/3\n",
      "625/625 [==============================] - 978s 2s/step - loss: 0.6881 - binary_accuracy: 0.5340 - val_loss: 0.6274 - val_binary_accuracy: 0.6098\n",
      "Epoch 2/3\n",
      "625/625 [==============================] - 948s 2s/step - loss: 0.6405 - binary_accuracy: 0.6334 - val_loss: 0.6158 - val_binary_accuracy: 0.6123\n",
      "Epoch 3/3\n",
      "625/625 [==============================] - 954s 2s/step - loss: 0.6249 - binary_accuracy: 0.6498 - val_loss: 0.5608 - val_binary_accuracy: 0.7461\n"
     ]
    },
    {
     "name": "stderr",
     "output_type": "stream",
     "text": [
      "\r",
      " 57%|█████▋    | 16/28 [37:16:34<18:16:24, 5482.04s/it]"
     ]
    },
    {
     "name": "stdout",
     "output_type": "stream",
     "text": [
      "Downloading data from https://storage.googleapis.com/tensorflow/keras-applications/mobilenet_v3/weights_mobilenet_v3_small_224_1.0_float_no_top.h5\n",
      "6701056/6698480 [==============================] - 0s 0us/step\n",
      "Model: \"model_16\"\n",
      "_________________________________________________________________\n",
      "Layer (type)                 Output Shape              Param #   \n",
      "=================================================================\n",
      "input_33 (InputLayer)        [(None, 224, 224, 3)]     0         \n",
      "_________________________________________________________________\n",
      "sequential (Sequential)      (None, 224, 224, 3)       0         \n",
      "_________________________________________________________________\n",
      "normalization_24 (Normalizat (None, 224, 224, 3)       7         \n",
      "_________________________________________________________________\n",
      "MobilenetV3small (Functional (None, 7, 7, 1024)        1529968   \n",
      "_________________________________________________________________\n",
      "global_average_pooling2d_16  (None, 1024)              0         \n",
      "_________________________________________________________________\n",
      "dropout_16 (Dropout)         (None, 1024)              0         \n",
      "_________________________________________________________________\n",
      "dense_16 (Dense)             (None, 1)                 1025      \n",
      "=================================================================\n",
      "Total params: 1,531,000\n",
      "Trainable params: 1,025\n",
      "Non-trainable params: 1,529,975\n",
      "_________________________________________________________________\n",
      "Epoch 1/3\n",
      "625/625 [==============================] - 537s 849ms/step - loss: 0.6956 - binary_accuracy: 0.5271 - val_loss: 0.6367 - val_binary_accuracy: 0.7465\n",
      "Epoch 2/3\n",
      "625/625 [==============================] - 542s 864ms/step - loss: 0.6759 - binary_accuracy: 0.5802 - val_loss: 0.6151 - val_binary_accuracy: 0.7071\n",
      "Epoch 3/3\n",
      "625/625 [==============================] - 547s 874ms/step - loss: 0.6634 - binary_accuracy: 0.6083 - val_loss: 0.6129 - val_binary_accuracy: 0.6544\n"
     ]
    },
    {
     "name": "stderr",
     "output_type": "stream",
     "text": [
      "\r",
      " 61%|██████    | 17/28 [37:43:45<13:12:41, 4323.78s/it]"
     ]
    },
    {
     "name": "stdout",
     "output_type": "stream",
     "text": [
      "Downloading data from https://storage.googleapis.com/tensorflow/keras-applications/nasnet/NASNet-large-no-top.h5\n",
      "293617664/343610240 [========================>.....] - ETA: 2s"
     ]
    },
    {
     "name": "stderr",
     "output_type": "stream",
     "text": [
      " 61%|██████    | 17/28 [37:44:15<24:25:06, 7991.47s/it]\n"
     ]
    },
    {
     "ename": "OSError",
     "evalue": "[Errno 28] No space left on device",
     "output_type": "error",
     "traceback": [
      "\u001b[0;31m---------------------------------------------------------------------------\u001b[0m",
      "\u001b[0;31mOSError\u001b[0m                                   Traceback (most recent call last)",
      "\u001b[0;32m<ipython-input-7-94510a8b3012>\u001b[0m in \u001b[0;36m<module>\u001b[0;34m\u001b[0m\n\u001b[1;32m     16\u001b[0m \u001b[0;34m\u001b[0m\u001b[0m\n\u001b[1;32m     17\u001b[0m     \u001b[0;31m# load the pre-trained model with global average pooling as the last layer and freeze the model weights\u001b[0m\u001b[0;34m\u001b[0m\u001b[0;34m\u001b[0m\u001b[0;34m\u001b[0m\u001b[0m\n\u001b[0;32m---> 18\u001b[0;31m     \u001b[0mpre_trained_model\u001b[0m \u001b[0;34m=\u001b[0m \u001b[0mmodel\u001b[0m\u001b[0;34m(\u001b[0m\u001b[0minclude_top\u001b[0m\u001b[0;34m=\u001b[0m\u001b[0;32mFalse\u001b[0m\u001b[0;34m,\u001b[0m \u001b[0minput_shape\u001b[0m\u001b[0;34m=\u001b[0m\u001b[0minput_shape\u001b[0m\u001b[0;34m)\u001b[0m\u001b[0;34m\u001b[0m\u001b[0;34m\u001b[0m\u001b[0m\n\u001b[0m\u001b[1;32m     19\u001b[0m     \u001b[0mpre_trained_model\u001b[0m\u001b[0;34m.\u001b[0m\u001b[0mtrainable\u001b[0m \u001b[0;34m=\u001b[0m \u001b[0;32mFalse\u001b[0m\u001b[0;34m\u001b[0m\u001b[0;34m\u001b[0m\u001b[0m\n\u001b[1;32m     20\u001b[0m \u001b[0;34m\u001b[0m\u001b[0m\n",
      "\u001b[0;32m~/ml/my_env/lib/python3.7/site-packages/tensorflow/python/keras/applications/nasnet.py\u001b[0m in \u001b[0;36mNASNetLarge\u001b[0;34m(input_shape, include_top, weights, input_tensor, pooling, classes)\u001b[0m\n\u001b[1;32m    471\u001b[0m       \u001b[0mpooling\u001b[0m\u001b[0;34m=\u001b[0m\u001b[0mpooling\u001b[0m\u001b[0;34m,\u001b[0m\u001b[0;34m\u001b[0m\u001b[0;34m\u001b[0m\u001b[0m\n\u001b[1;32m    472\u001b[0m       \u001b[0mclasses\u001b[0m\u001b[0;34m=\u001b[0m\u001b[0mclasses\u001b[0m\u001b[0;34m,\u001b[0m\u001b[0;34m\u001b[0m\u001b[0;34m\u001b[0m\u001b[0m\n\u001b[0;32m--> 473\u001b[0;31m       default_size=331)\n\u001b[0m\u001b[1;32m    474\u001b[0m \u001b[0;34m\u001b[0m\u001b[0m\n\u001b[1;32m    475\u001b[0m \u001b[0;34m\u001b[0m\u001b[0m\n",
      "\u001b[0;32m~/ml/my_env/lib/python3.7/site-packages/tensorflow/python/keras/applications/nasnet.py\u001b[0m in \u001b[0;36mNASNet\u001b[0;34m(input_shape, penultimate_filters, num_blocks, stem_block_filters, skip_reduction, filter_multiplier, include_top, weights, input_tensor, pooling, classes, default_size, classifier_activation)\u001b[0m\n\u001b[1;32m    306\u001b[0m             \u001b[0mNASNET_LARGE_WEIGHT_PATH_NO_TOP\u001b[0m\u001b[0;34m,\u001b[0m\u001b[0;34m\u001b[0m\u001b[0;34m\u001b[0m\u001b[0m\n\u001b[1;32m    307\u001b[0m             \u001b[0mcache_subdir\u001b[0m\u001b[0;34m=\u001b[0m\u001b[0;34m'models'\u001b[0m\u001b[0;34m,\u001b[0m\u001b[0;34m\u001b[0m\u001b[0;34m\u001b[0m\u001b[0m\n\u001b[0;32m--> 308\u001b[0;31m             file_hash='d81d89dc07e6e56530c4e77faddd61b5')\n\u001b[0m\u001b[1;32m    309\u001b[0m       \u001b[0mmodel\u001b[0m\u001b[0;34m.\u001b[0m\u001b[0mload_weights\u001b[0m\u001b[0;34m(\u001b[0m\u001b[0mweights_path\u001b[0m\u001b[0;34m)\u001b[0m\u001b[0;34m\u001b[0m\u001b[0;34m\u001b[0m\u001b[0m\n\u001b[1;32m    310\u001b[0m     \u001b[0;32melse\u001b[0m\u001b[0;34m:\u001b[0m\u001b[0;34m\u001b[0m\u001b[0;34m\u001b[0m\u001b[0m\n",
      "\u001b[0;32m~/ml/my_env/lib/python3.7/site-packages/tensorflow/python/keras/utils/data_utils.py\u001b[0m in \u001b[0;36mget_file\u001b[0;34m(fname, origin, untar, md5_hash, file_hash, cache_subdir, hash_algorithm, extract, archive_format, cache_dir)\u001b[0m\n\u001b[1;32m    273\u001b[0m     \u001b[0;32mtry\u001b[0m\u001b[0;34m:\u001b[0m\u001b[0;34m\u001b[0m\u001b[0;34m\u001b[0m\u001b[0m\n\u001b[1;32m    274\u001b[0m       \u001b[0;32mtry\u001b[0m\u001b[0;34m:\u001b[0m\u001b[0;34m\u001b[0m\u001b[0;34m\u001b[0m\u001b[0m\n\u001b[0;32m--> 275\u001b[0;31m         \u001b[0murlretrieve\u001b[0m\u001b[0;34m(\u001b[0m\u001b[0morigin\u001b[0m\u001b[0;34m,\u001b[0m \u001b[0mfpath\u001b[0m\u001b[0;34m,\u001b[0m \u001b[0mdl_progress\u001b[0m\u001b[0;34m)\u001b[0m\u001b[0;34m\u001b[0m\u001b[0;34m\u001b[0m\u001b[0m\n\u001b[0m\u001b[1;32m    276\u001b[0m       \u001b[0;32mexcept\u001b[0m \u001b[0mHTTPError\u001b[0m \u001b[0;32mas\u001b[0m \u001b[0me\u001b[0m\u001b[0;34m:\u001b[0m\u001b[0;34m\u001b[0m\u001b[0;34m\u001b[0m\u001b[0m\n\u001b[1;32m    277\u001b[0m         \u001b[0;32mraise\u001b[0m \u001b[0mException\u001b[0m\u001b[0;34m(\u001b[0m\u001b[0merror_msg\u001b[0m\u001b[0;34m.\u001b[0m\u001b[0mformat\u001b[0m\u001b[0;34m(\u001b[0m\u001b[0morigin\u001b[0m\u001b[0;34m,\u001b[0m \u001b[0me\u001b[0m\u001b[0;34m.\u001b[0m\u001b[0mcode\u001b[0m\u001b[0;34m,\u001b[0m \u001b[0me\u001b[0m\u001b[0;34m.\u001b[0m\u001b[0mmsg\u001b[0m\u001b[0;34m)\u001b[0m\u001b[0;34m)\u001b[0m\u001b[0;34m\u001b[0m\u001b[0;34m\u001b[0m\u001b[0m\n",
      "\u001b[0;32m/Library/Frameworks/Python.framework/Versions/3.7/lib/python3.7/urllib/request.py\u001b[0m in \u001b[0;36murlretrieve\u001b[0;34m(url, filename, reporthook, data)\u001b[0m\n\u001b[1;32m    278\u001b[0m                     \u001b[0;32mbreak\u001b[0m\u001b[0;34m\u001b[0m\u001b[0;34m\u001b[0m\u001b[0m\n\u001b[1;32m    279\u001b[0m                 \u001b[0mread\u001b[0m \u001b[0;34m+=\u001b[0m \u001b[0mlen\u001b[0m\u001b[0;34m(\u001b[0m\u001b[0mblock\u001b[0m\u001b[0;34m)\u001b[0m\u001b[0;34m\u001b[0m\u001b[0;34m\u001b[0m\u001b[0m\n\u001b[0;32m--> 280\u001b[0;31m                 \u001b[0mtfp\u001b[0m\u001b[0;34m.\u001b[0m\u001b[0mwrite\u001b[0m\u001b[0;34m(\u001b[0m\u001b[0mblock\u001b[0m\u001b[0;34m)\u001b[0m\u001b[0;34m\u001b[0m\u001b[0;34m\u001b[0m\u001b[0m\n\u001b[0m\u001b[1;32m    281\u001b[0m                 \u001b[0mblocknum\u001b[0m \u001b[0;34m+=\u001b[0m \u001b[0;36m1\u001b[0m\u001b[0;34m\u001b[0m\u001b[0;34m\u001b[0m\u001b[0m\n\u001b[1;32m    282\u001b[0m                 \u001b[0;32mif\u001b[0m \u001b[0mreporthook\u001b[0m\u001b[0;34m:\u001b[0m\u001b[0;34m\u001b[0m\u001b[0;34m\u001b[0m\u001b[0m\n",
      "\u001b[0;31mOSError\u001b[0m: [Errno 28] No space left on device"
     ]
    }
   ],
   "source": [
    "# Loop over each model available in Keras\n",
    "model_benchmarks = {'model_name': [], 'num_model_params': [], 'validation_accuracy': []}\n",
    "\n",
    "for model_name, model in tqdm(model_dictionary.items()):\n",
    "    # Special handling for \"NASNetLarge\" since it requires input images with size (331,331)\n",
    "    if 'NASNetLarge' in model_name:\n",
    "        input_shape=(331,331,3)\n",
    "        train_processed = train_ds_331\n",
    "        validation_processed = val_ds_331\n",
    "        inputs = keras.Input(shape=(331, 331, 3))\n",
    "    else:\n",
    "        input_shape=(224,224,3)\n",
    "        train_processed = train_ds_224\n",
    "        validation_processed = val_ds_224\n",
    "        inputs = keras.Input(shape=(224, 224, 3))\n",
    "        \n",
    "    # load the pre-trained model with global average pooling as the last layer and freeze the model weights\n",
    "    pre_trained_model = model(include_top=False, input_shape=input_shape)\n",
    "    pre_trained_model.trainable = False\n",
    "\n",
    "    # Create new model on top\n",
    "    x = data_augmentation(inputs)  # Apply random data augmentation\n",
    "    \n",
    "    # Pre-trained Xception weights requires that input be normalized\n",
    "    # from (0, 255) to a range (-1., +1.), the normalization layer\n",
    "    # does the following, outputs = (inputs - mean) / sqrt(var)\n",
    "\n",
    "    norm_layer = keras.layers.experimental.preprocessing.Normalization()\n",
    "    mean = np.array([127.5] * 3)\n",
    "    var = mean ** 2\n",
    "\n",
    "    # Scale inputs to [-1, +1]\n",
    "    x = norm_layer(x)\n",
    "    norm_layer.set_weights([mean, var])\n",
    "\n",
    "    # We make sure that the base_model is running in inference mode here,\n",
    "    # by passing `training=False`.\n",
    "    x = pre_trained_model(x, training=False)\n",
    "    \n",
    "    # Convert features of shape `base_model.output_shape[1:]` to vectors\n",
    "    x = keras.layers.GlobalAveragePooling2D()(x)\n",
    "\n",
    "    # A Dense classifier with a single unit (binary classification)\n",
    "    x = keras.layers.Dropout(0.2)(x)  # Regularize with dropout\n",
    "    outputs = keras.layers.Dense(1, activation=\"sigmoid\")(x)\n",
    "    clf_model = keras.Model(inputs, outputs)\n",
    "    \n",
    "    # Train model\n",
    "    epochs = 3\n",
    "\n",
    "    clf_model.summary()\n",
    "    clf_model.compile(optimizer=keras.optimizers.Adam(),\n",
    "                  loss=keras.losses.BinaryCrossentropy(from_logits=True),\n",
    "                  metrics=[keras.metrics.BinaryAccuracy()])\n",
    "    train_history = clf_model.fit(train_processed, epochs=epochs, validation_data=validation_processed)"
   ]
  },
  {
   "cell_type": "code",
   "execution_count": null,
   "id": "67769fcb",
   "metadata": {},
   "outputs": [],
   "source": [
    "# Calculate all relevant metrics\n",
    "model_benchmarks['model_name'].append(model_name)\n",
    "model_benchmarks['num_model_params'].append(pre_trained_model.count_params())\n",
    "model_benchmarks['validation_accuracy'].append(history.history['val_accuracy'][-1])m bn"
   ]
  },
  {
   "cell_type": "code",
   "execution_count": null,
   "id": "f448f876",
   "metadata": {},
   "outputs": [],
   "source": [
    "# Convert Results to DataFrame for easy viewing\n",
    "benchmark_df = pd.DataFrame(model_benchmarks)\n",
    "\n",
    "# sort in ascending order of num_model_params column\n",
    "benchmark_df.sort_values('num_model_params', inplace=True)\n",
    "\n",
    "# write results to csv file\n",
    "benchmark_df.to_csv('benchmark_df.csv', index=False)\n",
    "benchmark_df"
   ]
  },
  {
   "cell_type": "code",
   "execution_count": null,
   "id": "efd2ac03",
   "metadata": {},
   "outputs": [],
   "source": [
    "# Loop over each row and plot the num_model_params vs validation_accuracy\n",
    "markers=[\".\",\",\",\"o\",\"v\",\"^\",\"<\",\">\",\"1\",\"2\",\"3\",\"4\",\"8\",\"s\",\"p\",\"P\",\"*\",\"h\",\"H\",\"+\",\"x\",\"X\",\"D\",\"d\",\"|\",\"_\",4,5,6,7,8,9,10,11]\n",
    "plt.figure(figsize=(7,5))\n",
    "\n",
    "for row in benchmark_df.itertuples():\n",
    "    plt.scatter(row.num_model_params, row.validation_accuracy, label=row.model_name, marker=markers[row.Index], s=150, linewidths=2)\n",
    "    \n",
    "plt.xscale('log')\n",
    "plt.xlabel('Number of Parameters in Model')\n",
    "plt.ylabel('Validation Accuracy after 3 Epochs')\n",
    "plt.title('Accuracy vs Model Size')\n",
    "\n",
    "# Move legend out of the plot\n",
    "plt.legend(bbox_to_anchor=(1, 1), loc='upper left');"
   ]
  }
 ],
 "metadata": {
  "kernelspec": {
   "display_name": "Python 3",
   "language": "python",
   "name": "python3"
  },
  "language_info": {
   "codemirror_mode": {
    "name": "ipython",
    "version": 3
   },
   "file_extension": ".py",
   "mimetype": "text/x-python",
   "name": "python",
   "nbconvert_exporter": "python",
   "pygments_lexer": "ipython3",
   "version": "3.7.6"
  }
 },
 "nbformat": 4,
 "nbformat_minor": 5
}
